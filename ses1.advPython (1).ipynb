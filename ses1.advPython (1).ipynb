{
 "cells": [
  {
   "cell_type": "code",
   "execution_count": 1,
   "id": "56536f74-b6a3-4e9c-b287-70654df23d99",
   "metadata": {},
   "outputs": [],
   "source": [
    "# functions=functions are a block of code used to perform certain task"
   ]
  },
  {
   "cell_type": "code",
   "execution_count": 2,
   "id": "47586311-5941-4c34-94da-7512996741ce",
   "metadata": {},
   "outputs": [],
   "source": [
    "# function has two parts\n",
    "# 1)defining a function\n",
    "# 2)invoking or calling a function\n"
   ]
  },
  {
   "cell_type": "code",
   "execution_count": 3,
   "id": "6f827ad6-7ea4-45a2-9ee0-a451c44346af",
   "metadata": {},
   "outputs": [],
   "source": [
    "# defining a function"
   ]
  },
  {
   "cell_type": "code",
   "execution_count": 4,
   "id": "1560db78-d848-4f1d-809b-07ce7e712aa9",
   "metadata": {},
   "outputs": [],
   "source": [
    "def greet():\n",
    "    print(\"Welcome to ETLHIVE\")"
   ]
  },
  {
   "cell_type": "code",
   "execution_count": 5,
   "id": "7f693c6b-dde3-4628-b076-a8b1bf8cc07c",
   "metadata": {},
   "outputs": [],
   "source": [
    "# invoked a function"
   ]
  },
  {
   "cell_type": "code",
   "execution_count": 6,
   "id": "71ce0e22-c577-4e94-8755-98a7d511e481",
   "metadata": {},
   "outputs": [
    {
     "name": "stdout",
     "output_type": "stream",
     "text": [
      "Welcome to ETLHIVE\n"
     ]
    }
   ],
   "source": [
    "greet()"
   ]
  },
  {
   "cell_type": "code",
   "execution_count": 7,
   "id": "fc7c6504-b47b-497a-ac98-c1cd41a637e7",
   "metadata": {},
   "outputs": [],
   "source": [
    "# print numbers from 1 to 10 using function"
   ]
  },
  {
   "cell_type": "code",
   "execution_count": 8,
   "id": "6c6d8823-d489-4aaf-9812-0711712959b1",
   "metadata": {},
   "outputs": [],
   "source": [
    "def print_numbers():\n",
    "    for i in range(1,11):\n",
    "         print(i)"
   ]
  },
  {
   "cell_type": "code",
   "execution_count": 9,
   "id": "bbdc27bc-735c-4566-9b3f-45fee3c629d0",
   "metadata": {},
   "outputs": [
    {
     "name": "stdout",
     "output_type": "stream",
     "text": [
      "1\n",
      "2\n",
      "3\n",
      "4\n",
      "5\n",
      "6\n",
      "7\n",
      "8\n",
      "9\n",
      "10\n"
     ]
    }
   ],
   "source": [
    "print_numbers()"
   ]
  },
  {
   "cell_type": "code",
   "execution_count": 10,
   "id": "0d74f1fe-7bfd-4bd8-a081-09639913e65e",
   "metadata": {},
   "outputs": [],
   "source": [
    "# with parameter"
   ]
  },
  {
   "cell_type": "code",
   "execution_count": 11,
   "id": "02f2f972-8820-475a-82c3-174a73a722d2",
   "metadata": {},
   "outputs": [],
   "source": [
    "# add two number using function"
   ]
  },
  {
   "cell_type": "code",
   "execution_count": 12,
   "id": "f81658e0-37fb-4615-b35a-e1e2c028ad0b",
   "metadata": {},
   "outputs": [],
   "source": [
    "def addition(a,b):\n",
    "    print(\"addition=\",a+b)"
   ]
  },
  {
   "cell_type": "code",
   "execution_count": 13,
   "id": "5698917f-73b1-4509-abda-1df00b0f1ebe",
   "metadata": {},
   "outputs": [
    {
     "name": "stdout",
     "output_type": "stream",
     "text": [
      "addition= 30\n"
     ]
    }
   ],
   "source": [
    "addition(10,20)"
   ]
  },
  {
   "cell_type": "code",
   "execution_count": 14,
   "id": "84fead67-4b9c-4cab-93d2-62140977b1d7",
   "metadata": {},
   "outputs": [
    {
     "name": "stdout",
     "output_type": "stream",
     "text": [
      "addition= 33\n"
     ]
    }
   ],
   "source": [
    "addition(11,22)"
   ]
  },
  {
   "cell_type": "code",
   "execution_count": 15,
   "id": "79cb87e8-2ee8-44cf-a4ff-473ec851a685",
   "metadata": {},
   "outputs": [],
   "source": [
    "# print table of any number taking number from user input"
   ]
  },
  {
   "cell_type": "code",
   "execution_count": 16,
   "id": "c446b09c-e4aa-4049-a202-8ba9ef7c5f4b",
   "metadata": {},
   "outputs": [],
   "source": [
    "def print_table(n):\n",
    "    for i in range(1,11):\n",
    "        print(n*i)"
   ]
  },
  {
   "cell_type": "code",
   "execution_count": 17,
   "id": "da724308-ad5e-456e-a7d3-e899c0bfbe50",
   "metadata": {},
   "outputs": [
    {
     "name": "stdout",
     "output_type": "stream",
     "text": [
      "5\n",
      "10\n",
      "15\n",
      "20\n",
      "25\n",
      "30\n",
      "35\n",
      "40\n",
      "45\n",
      "50\n"
     ]
    }
   ],
   "source": [
    "print_table(5)"
   ]
  },
  {
   "cell_type": "code",
   "execution_count": 18,
   "id": "91453f31-9c88-4b19-8c47-e765c0c7d128",
   "metadata": {},
   "outputs": [
    {
     "name": "stdout",
     "output_type": "stream",
     "text": [
      "18\n",
      "36\n",
      "54\n",
      "72\n",
      "90\n",
      "108\n",
      "126\n",
      "144\n",
      "162\n",
      "180\n"
     ]
    }
   ],
   "source": [
    "print_table(18)"
   ]
  },
  {
   "cell_type": "code",
   "execution_count": 19,
   "id": "c51ab3f0-33df-4283-b0d9-47b58b152dfc",
   "metadata": {},
   "outputs": [],
   "source": [
    "# cube"
   ]
  },
  {
   "cell_type": "code",
   "execution_count": 20,
   "id": "270f5959-71b0-4432-b715-ddd998e6d67a",
   "metadata": {},
   "outputs": [],
   "source": [
    "def print_cube(n):\n",
    "    for i in range(1,11):\n",
    "        print(i*i*i)"
   ]
  },
  {
   "cell_type": "code",
   "execution_count": 21,
   "id": "35b2c254-3cf2-4f0f-84d5-a6ae24137cb0",
   "metadata": {},
   "outputs": [
    {
     "name": "stdout",
     "output_type": "stream",
     "text": [
      "1\n",
      "8\n",
      "27\n",
      "64\n",
      "125\n",
      "216\n",
      "343\n",
      "512\n",
      "729\n",
      "1000\n"
     ]
    }
   ],
   "source": [
    "print_cube(3)"
   ]
  },
  {
   "cell_type": "code",
   "execution_count": 22,
   "id": "b9083005-d32f-455a-b079-cce334b643ed",
   "metadata": {},
   "outputs": [],
   "source": [
    "# cube of given numbers from list"
   ]
  },
  {
   "cell_type": "code",
   "execution_count": 23,
   "id": "ead3cc70-fc5e-4e67-971a-55eae93e794e",
   "metadata": {},
   "outputs": [],
   "source": [
    "l1=[2,3,4,5,6,7,8]"
   ]
  },
  {
   "cell_type": "code",
   "execution_count": 24,
   "id": "b68994a6-b554-465d-9ac0-8afe5513dd17",
   "metadata": {},
   "outputs": [],
   "source": [
    "def cal_cube(lst):\n",
    "    for i in lst:\n",
    "        print(i*i*i)"
   ]
  },
  {
   "cell_type": "code",
   "execution_count": 25,
   "id": "836a4b81-e46c-46a6-bfb3-aa33f6cc0357",
   "metadata": {},
   "outputs": [
    {
     "name": "stdout",
     "output_type": "stream",
     "text": [
      "8\n",
      "27\n",
      "64\n",
      "125\n",
      "216\n",
      "343\n",
      "512\n"
     ]
    }
   ],
   "source": [
    "cal_cube(l1)"
   ]
  },
  {
   "cell_type": "code",
   "execution_count": 26,
   "id": "71c32444-bf67-40b5-9182-f2d163634ef5",
   "metadata": {},
   "outputs": [],
   "source": [
    "# sum of all elements inside a list"
   ]
  },
  {
   "cell_type": "code",
   "execution_count": 27,
   "id": "8c9c127b-e900-45f7-9dc8-8aea76bbda8d",
   "metadata": {},
   "outputs": [],
   "source": [
    "l1=[2,3,4,5]"
   ]
  },
  {
   "cell_type": "code",
   "execution_count": 28,
   "id": "5c4a4ffd-e2a8-4663-b83b-7cd09ca70895",
   "metadata": {},
   "outputs": [],
   "source": [
    "def sum_of_element(lst):\n",
    "    s=0\n",
    "    for i in lst:\n",
    "        s=s+i\n",
    "    print(s)"
   ]
  },
  {
   "cell_type": "code",
   "execution_count": 29,
   "id": "a469b223-bbe3-4dd7-af3b-88fdeb471270",
   "metadata": {},
   "outputs": [
    {
     "name": "stdout",
     "output_type": "stream",
     "text": [
      "14\n"
     ]
    }
   ],
   "source": [
    " sum_of_element(l1)"
   ]
  },
  {
   "cell_type": "code",
   "execution_count": 30,
   "id": "c4c38151-64d2-4783-87c3-a3798e512526",
   "metadata": {},
   "outputs": [],
   "source": [
    "# Write a function in python to calculate product of all elements inside a list"
   ]
  },
  {
   "cell_type": "code",
   "execution_count": 31,
   "id": "78303319-dfff-4962-a203-961e70f71e8a",
   "metadata": {},
   "outputs": [],
   "source": [
    "l1=[2,3,4,5]"
   ]
  },
  {
   "cell_type": "code",
   "execution_count": 32,
   "id": "0065d4cc-2ab3-4109-8b23-c9fa754d4426",
   "metadata": {},
   "outputs": [],
   "source": [
    "def product_of_all_element(lst):\n",
    "    s=1\n",
    "    for i in lst:\n",
    "        s=s*i\n",
    "    print(s)    "
   ]
  },
  {
   "cell_type": "code",
   "execution_count": 33,
   "id": "4a4d0f04-5ec0-4841-a7df-932f9e39da44",
   "metadata": {},
   "outputs": [
    {
     "name": "stdout",
     "output_type": "stream",
     "text": [
      "120\n"
     ]
    }
   ],
   "source": [
    "product_of_all_element(l1)"
   ]
  },
  {
   "cell_type": "code",
   "execution_count": 34,
   "id": "d0ead8ba-ef85-4964-8bc5-02b7db9ada87",
   "metadata": {},
   "outputs": [],
   "source": [
    "# calculate hypotenuse of a right angle triangle\n"
   ]
  },
  {
   "cell_type": "code",
   "execution_count": 35,
   "id": "8996053b-1626-4e2a-b36b-ab524a04903a",
   "metadata": {},
   "outputs": [
    {
     "name": "stdin",
     "output_type": "stream",
     "text": [
      "Enter base: 12\n",
      "Enter height: 12\n"
     ]
    },
    {
     "name": "stdout",
     "output_type": "stream",
     "text": [
      "Hypotenuse= 288.0\n"
     ]
    }
   ],
   "source": [
    "base= float(input(\"Enter base:\"))\n",
    "height=float(input(\"Enter height:\"))\n",
    "hypotenuse=(base**2+height**2)\n",
    "print(\"Hypotenuse=\",hypotenuse)"
   ]
  },
  {
   "cell_type": "code",
   "execution_count": 36,
   "id": "b69d9f5d-6e4a-4ccc-8d85-24db7ec60bb8",
   "metadata": {},
   "outputs": [],
   "source": [
    "# Write a function in python that calculates area of triangle when 3 sides are given"
   ]
  },
  {
   "cell_type": "code",
   "execution_count": 37,
   "id": "76a14d07-0eef-4259-9904-dc91997cb9fb",
   "metadata": {},
   "outputs": [],
   "source": [
    "def cal_triangle(s1,s2,s3):\n",
    "    sp=(s1+s2+s3)/2\n",
    "    Area=(sp*(sp-s1)*(sp-s2)*(sp-s3))**0.5\n",
    "    print(f\"Area of triangles1,s2 and s3 is {Area}\")"
   ]
  },
  {
   "cell_type": "code",
   "execution_count": 38,
   "id": "2908420d-9da9-4508-813e-2139d3107bc4",
   "metadata": {},
   "outputs": [
    {
     "name": "stdout",
     "output_type": "stream",
     "text": [
      "Area of triangles1,s2 and s3 is 78.92678569408487\n"
     ]
    }
   ],
   "source": [
    "cal_triangle(15,14,12)"
   ]
  },
  {
   "cell_type": "code",
   "execution_count": 39,
   "id": "cbbcf323-04c2-4467-8e24-e9aef9d1af0f",
   "metadata": {},
   "outputs": [],
   "source": [
    "# Write a function in python which takes 3 sides and determines whether 3 sides form triangle or \n",
    "# not ."
   ]
  },
  {
   "cell_type": "code",
   "execution_count": 40,
   "id": "fd93aab6-a493-4ed0-b57e-e6a2fe0ef388",
   "metadata": {},
   "outputs": [],
   "source": [
    "# def triangle(a,b,c):\n",
    "    # if (a+b>c) and (a+c>b) and (b+c>a):\n",
    "        "
   ]
  },
  {
   "cell_type": "code",
   "execution_count": 41,
   "id": "c7b9ce9e-b242-47dd-b2bb-277f87153c03",
   "metadata": {},
   "outputs": [],
   "source": [
    "def verify_triangle(a,b,c):\n",
    "    if a<b+c and b<a+c and c<a+b:\n",
    "        print (\"All the three sides from triangle\")\n",
    "    else:\n",
    "        print('three sides does not from triangle')"
   ]
  },
  {
   "cell_type": "code",
   "execution_count": 42,
   "id": "e9fda0f3-072e-4e0c-878f-f8c8b2e5d00b",
   "metadata": {},
   "outputs": [
    {
     "name": "stdout",
     "output_type": "stream",
     "text": [
      "All the three sides from triangle\n"
     ]
    }
   ],
   "source": [
    "verify_triangle(5,4,3)"
   ]
  },
  {
   "cell_type": "code",
   "execution_count": 43,
   "id": "03f73b3a-b7ab-4a3c-810c-dbf6f09df0e4",
   "metadata": {},
   "outputs": [],
   "source": [
    "# Function to count total words in a given sentence"
   ]
  },
  {
   "cell_type": "code",
   "execution_count": 44,
   "id": "e7939345-2d40-4f7d-b051-2224e65be773",
   "metadata": {},
   "outputs": [
    {
     "name": "stdout",
     "output_type": "stream",
     "text": [
      "Sentence: welcome to ETLHIVE\n",
      "Total words: 3\n"
     ]
    }
   ],
   "source": [
    "\n",
    "def count_words(sentence):\n",
    "    \n",
    "    words = sentence.split()\n",
    "    return len(words)\n",
    "\n",
    "\n",
    "sentence = \"welcome to ETLHIVE\"\n",
    "print(f\"Sentence: {sentence}\")\n",
    "print(\"Total words:\", count_words(sentence))"
   ]
  },
  {
   "cell_type": "code",
   "execution_count": 45,
   "id": "2959fc2e-6c44-4a2e-87ea-c1c3ed58f742",
   "metadata": {},
   "outputs": [],
   "source": [
    "# generator function\n",
    "# write a fuction in python to generator fibonacci series"
   ]
  },
  {
   "cell_type": "code",
   "execution_count": 46,
   "id": "881504ef-d856-4a3f-afda-5bdce74047d1",
   "metadata": {},
   "outputs": [],
   "source": [
    "# 0,1,1,2,3,5,8,13,21,34,55,89"
   ]
  },
  {
   "cell_type": "code",
   "execution_count": 47,
   "id": "811e7790-8bc6-4e06-bb7e-0b5db73f6084",
   "metadata": {},
   "outputs": [],
   "source": [
    "# while loop"
   ]
  },
  {
   "cell_type": "code",
   "execution_count": 48,
   "id": "93df663f-cac4-48fe-8d52-6f9e099af275",
   "metadata": {},
   "outputs": [],
   "source": [
    "# 1)initialisation\n",
    "# 2)condition checking\n",
    "# 3)incre/decre\n"
   ]
  },
  {
   "cell_type": "code",
   "execution_count": 49,
   "id": "d1cd1757-048e-4654-98c3-feaf80cd99ac",
   "metadata": {},
   "outputs": [
    {
     "name": "stdout",
     "output_type": "stream",
     "text": [
      "1\n",
      "2\n",
      "3\n",
      "4\n",
      "5\n",
      "6\n",
      "7\n",
      "8\n",
      "9\n",
      "10\n"
     ]
    }
   ],
   "source": [
    "i=1\n",
    "while i<=10:\n",
    "    print(i)\n",
    "    i=i+1"
   ]
  },
  {
   "cell_type": "code",
   "execution_count": 50,
   "id": "99ff25fe-9874-47f3-bcf2-9faa4eb95106",
   "metadata": {},
   "outputs": [],
   "source": [
    "# print table of any number"
   ]
  },
  {
   "cell_type": "code",
   "execution_count": 51,
   "id": "0422d9ca-bbd4-49b8-9cda-9f705ad103bf",
   "metadata": {},
   "outputs": [
    {
     "name": "stdin",
     "output_type": "stream",
     "text": [
      "Enter a number 2\n"
     ]
    },
    {
     "name": "stdout",
     "output_type": "stream",
     "text": [
      "2\n",
      "4\n",
      "6\n",
      "8\n",
      "10\n",
      "12\n",
      "14\n",
      "16\n",
      "18\n",
      "20\n"
     ]
    }
   ],
   "source": [
    "i=1\n",
    "n=int(input('Enter a number'))\n",
    "while i<=10:\n",
    "    print(n*i)\n",
    "    i=i+1"
   ]
  },
  {
   "cell_type": "code",
   "execution_count": 52,
   "id": "76665bc0-b8a9-4897-9aa6-91d868857f36",
   "metadata": {},
   "outputs": [
    {
     "name": "stdin",
     "output_type": "stream",
     "text": [
      "Enter a number 3\n"
     ]
    },
    {
     "name": "stdout",
     "output_type": "stream",
     "text": [
      "3\n",
      "6\n",
      "9\n",
      "12\n",
      "15\n",
      "18\n",
      "21\n",
      "24\n",
      "27\n",
      "30\n"
     ]
    }
   ],
   "source": [
    "i=1\n",
    "n=int(input('Enter a number'))\n",
    "while i<=10:\n",
    "    print(n*i)\n",
    "    i=i+1"
   ]
  },
  {
   "cell_type": "code",
   "execution_count": 53,
   "id": "0d3711a7-1f8e-433b-a5d7-f939fd53bdf1",
   "metadata": {},
   "outputs": [],
   "source": [
    "# fabonacci series"
   ]
  },
  {
   "cell_type": "code",
   "execution_count": null,
   "id": "4092f880-cc9f-4ebd-99d6-4dd35e4463da",
   "metadata": {},
   "outputs": [],
   "source": []
  },
  {
   "cell_type": "code",
   "execution_count": null,
   "id": "12f9f684-cf0c-4cd6-b792-28147cdf5706",
   "metadata": {},
   "outputs": [],
   "source": []
  }
 ],
 "metadata": {
  "kernelspec": {
   "display_name": "Python 3 (ipykernel)",
   "language": "python",
   "name": "python3"
  },
  "language_info": {
   "codemirror_mode": {
    "name": "ipython",
    "version": 3
   },
   "file_extension": ".py",
   "mimetype": "text/x-python",
   "name": "python",
   "nbconvert_exporter": "python",
   "pygments_lexer": "ipython3",
   "version": "3.13.5"
  }
 },
 "nbformat": 4,
 "nbformat_minor": 5
}
